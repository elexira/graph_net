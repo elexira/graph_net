{
 "cells": [
  {
   "cell_type": "code",
   "execution_count": 1,
   "metadata": {},
   "outputs": [],
   "source": [
    "import numpy as np"
   ]
  },
  {
   "cell_type": "code",
   "execution_count": 2,
   "metadata": {},
   "outputs": [],
   "source": [
    "A = np.matrix([\n",
    "    [0, 1, 0, 0],\n",
    "    [0, 0, 1, 1], \n",
    "    [0, 1, 0, 0],\n",
    "    [1, 0, 1, 0]],\n",
    "    dtype=float\n",
    ")"
   ]
  },
  {
   "cell_type": "code",
   "execution_count": 3,
   "metadata": {},
   "outputs": [],
   "source": [
    "X = np.matrix([\n",
    "            [i, -i]\n",
    "            for i in range(A.shape[0])\n",
    "        ], dtype=float)"
   ]
  },
  {
   "cell_type": "code",
   "execution_count": 4,
   "metadata": {},
   "outputs": [
    {
     "data": {
      "text/plain": [
       "matrix([[ 1., -1.],\n",
       "        [ 5., -5.],\n",
       "        [ 1., -1.],\n",
       "        [ 2., -2.]])"
      ]
     },
     "execution_count": 4,
     "metadata": {},
     "output_type": "execute_result"
    }
   ],
   "source": [
    "# The representation of each node (each row) is now a sum of its neighbors features!\n",
    "# however it does not include the features from the node itself, unless there is a self loop\n",
    "A * X"
   ]
  },
  {
   "cell_type": "code",
   "execution_count": 5,
   "metadata": {},
   "outputs": [
    {
     "data": {
      "text/plain": [
       "matrix([[ 1., -1.],\n",
       "        [ 6., -6.],\n",
       "        [ 3., -3.],\n",
       "        [ 5., -5.]])"
      ]
     },
     "execution_count": 5,
     "metadata": {},
     "output_type": "execute_result"
    }
   ],
   "source": [
    "# Adding Self-Loops: The aggregated representation of a node does not include its own features! \n",
    "# The representation is an aggregate of the features of neighbor nodes,\n",
    "# so only nodes that has a self-loop will include their own features in the aggregate.\n",
    "I = np.matrix(np.eye(A.shape[0]))\n",
    "A_hat = A + I\n",
    "A_hat * X"
   ]
  },
  {
   "cell_type": "code",
   "execution_count": 6,
   "metadata": {},
   "outputs": [
    {
     "name": "stdout",
     "output_type": "stream",
     "text": [
      "A:\n",
      " [[0. 1. 0. 0.]\n",
      " [0. 0. 1. 1.]\n",
      " [0. 1. 0. 0.]\n",
      " [1. 0. 1. 0.]]\n",
      "A_hat:\n",
      " [[1. 1. 0. 0.]\n",
      " [0. 1. 1. 1.]\n",
      " [0. 1. 1. 0.]\n",
      " [1. 0. 1. 1.]]\n",
      "D_hat:\n",
      " [[2. 0. 0. 0.]\n",
      " [0. 3. 0. 0.]\n",
      " [0. 0. 3. 0.]\n",
      " [0. 0. 0. 2.]]\n"
     ]
    },
    {
     "data": {
      "text/plain": [
       "matrix([[0.5       , 0.5       , 0.        , 0.        ],\n",
       "        [0.        , 0.33333333, 0.33333333, 0.33333333],\n",
       "        [0.        , 0.33333333, 0.33333333, 0.        ],\n",
       "        [0.5       , 0.        , 0.5       , 0.5       ]])"
      ]
     },
     "execution_count": 6,
     "metadata": {},
     "output_type": "execute_result"
    }
   ],
   "source": [
    "# Normalizing the Feature Representations\n",
    "# Nodes with large degrees will have large values in their feature representation while\n",
    "# nodes with small degrees will have small values.\n",
    "# This can cause vanishing or exploding gradients\n",
    "# node representations corresponding to the mean of the features of neighboring nodes. \n",
    "# This is because the weights in the (transformed) adjacency matrix correspond to weights in \n",
    "# a weighted sum of the neighboring nodes’ features.\n",
    "# notice sum of each row = 1\n",
    "\n",
    "D_hat = np.array(np.sum(A_hat, axis=0))[0]\n",
    "D_hat = np.matrix(np.diag(D_hat))\n",
    "print(\"A:\\n\",  A)\n",
    "print(\"A_hat:\\n\", A_hat)\n",
    "print(\"D_hat:\\n\", D_hat)\n",
    "\n",
    "D_hat**-1 * A_hat"
   ]
  },
  {
   "cell_type": "markdown",
   "metadata": {},
   "source": [
    "## Putting it All Together"
   ]
  },
  {
   "cell_type": "code",
   "execution_count": 7,
   "metadata": {},
   "outputs": [
    {
     "name": "stdout",
     "output_type": "stream",
     "text": [
      "[[ 1. -1.]\n",
      " [ 4. -4.]\n",
      " [ 2. -2.]\n",
      " [ 5. -5.]]\n"
     ]
    }
   ],
   "source": [
    "W = np.matrix([\n",
    "             [1, -1],\n",
    "             [-1, 1]\n",
    "         ])\n",
    "\n",
    "pre_activation_layer_1 = D_hat**-1 * A_hat * X * W\n",
    "print(pre_activation_layer_1)"
   ]
  },
  {
   "cell_type": "code",
   "execution_count": 8,
   "metadata": {},
   "outputs": [
    {
     "data": {
      "text/plain": [
       "matrix([[1., 0.],\n",
       "        [4., 0.],\n",
       "        [2., 0.],\n",
       "        [5., 0.]])"
      ]
     },
     "execution_count": 8,
     "metadata": {},
     "output_type": "execute_result"
    }
   ],
   "source": [
    "def relu(x):\n",
    "    if x < 0 :\n",
    "        return 0\n",
    "    else:\n",
    "        return x\n",
    "    \n",
    "    \n",
    "relu_vec = np.vectorize(relu)\n",
    "result = relu_vec(pre_activation_layer_1)\n",
    "result"
   ]
  },
  {
   "cell_type": "markdown",
   "metadata": {},
   "source": [
    "## Zachary’s Karate Club"
   ]
  },
  {
   "cell_type": "code",
   "execution_count": 9,
   "metadata": {},
   "outputs": [],
   "source": [
    "from networkx import karate_club_graph, to_numpy_matrix\n",
    "\n",
    "zkc = karate_club_graph()\n",
    "\n",
    "order = sorted(list(zkc.nodes()))\n",
    "A = to_numpy_matrix(zkc, nodelist=order)\n",
    "I = np.eye(zkc.number_of_nodes())\n",
    "A_hat = A + I\n",
    "D_hat = np.array(np.sum(A_hat, axis=0))[0]\n",
    "D_hat = np.matrix(np.diag(D_hat))"
   ]
  },
  {
   "cell_type": "code",
   "execution_count": 10,
   "metadata": {},
   "outputs": [],
   "source": [
    "W_1 = np.random.normal(\n",
    "    loc=0, scale=1, size=(zkc.number_of_nodes(), 4))\n",
    "W_2 = np.random.normal(\n",
    "    loc=0, size=(W_1.shape[1], 2))"
   ]
  },
  {
   "cell_type": "code",
   "execution_count": 11,
   "metadata": {},
   "outputs": [
    {
     "name": "stdout",
     "output_type": "stream",
     "text": [
      "[[ 0.27810459  0.03475642]\n",
      " [ 0.29077573  0.05744313]\n",
      " [ 0.40676551 -0.11097527]\n",
      " [ 0.37036087 -0.0616709 ]\n",
      " [ 0.00213726  0.19078272]\n",
      " [-0.20550754  0.18407716]\n",
      " [-0.07310335  0.12406585]\n",
      " [ 0.44759386 -0.06190154]\n",
      " [ 0.57402437 -0.04818369]\n",
      " [ 0.68284001 -0.30939467]\n",
      " [ 0.22525672  0.12887706]\n",
      " [ 0.47478736  0.07188944]\n",
      " [ 0.38602811 -0.12395588]\n",
      " [ 0.53825609 -0.10866337]\n",
      " [ 0.87393709 -0.00514369]\n",
      " [ 0.95273627 -0.10476995]\n",
      " [-0.39757011  0.14072599]\n",
      " [ 0.05347004  0.06064475]\n",
      " [ 0.72477898  0.06031109]\n",
      " [ 0.56186728 -0.12167013]\n",
      " [ 1.01066398 -0.0814761 ]\n",
      " [ 0.0600942   0.26493266]\n",
      " [ 1.01998469 -0.03000815]\n",
      " [ 0.47834203 -0.20260374]\n",
      " [ 0.6116436  -0.33437742]\n",
      " [ 0.721737   -0.09106589]\n",
      " [ 0.68767978 -0.2817686 ]\n",
      " [ 0.67248427 -0.34018615]\n",
      " [ 1.01054523 -0.25395767]\n",
      " [ 0.63478461 -0.15929037]\n",
      " [ 0.48512021  0.0094001 ]\n",
      " [ 0.80540949 -0.24996777]\n",
      " [ 0.73965815  0.32892872]\n",
      " [ 0.6327913   0.17399056]]\n"
     ]
    }
   ],
   "source": [
    "def gcn_layer(A_hat, D_hat, X, W, activate = True):\n",
    "    if activate:\n",
    "        return relu_vec(D_hat**-1 * A_hat * X * W)\n",
    "    else:\n",
    "        return D_hat**-1 * A_hat * X * W\n",
    "\n",
    "\n",
    "H_1 = gcn_layer(A_hat, D_hat, I, W_1, False)\n",
    "H_2 = gcn_layer(A_hat, D_hat, H_1, W_2, False)\n",
    "output = H_2\n",
    "print(H_2)"
   ]
  },
  {
   "cell_type": "code",
   "execution_count": 12,
   "metadata": {},
   "outputs": [],
   "source": [
    "feature_representations = {\n",
    "    node: np.array(output)[node] \n",
    "    for node in zkc.nodes()}"
   ]
  },
  {
   "cell_type": "code",
   "execution_count": 13,
   "metadata": {},
   "outputs": [
    {
     "data": {
      "image/png": "[encoded data removed]",
      "text/plain": [
       "<Figure size 432x288 with 1 Axes>"
      ]
     },
     "metadata": {},
     "output_type": "display_data"
    }
   ],
   "source": [
    "%matplotlib inline\n",
    "import matplotlib.pyplot as plt\n",
    "import networkx as nx\n",
    "\n",
    "def show_graph_with_labels(adjacency_matrix, mylabels = None):\n",
    "    rows, cols = np.where(adjacency_matrix == 1)\n",
    "    edges = zip(rows.tolist(), cols.tolist())\n",
    "    gr = nx.Graph()\n",
    "    gr.add_edges_from(edges)\n",
    "    nx.draw(gr, node_size=500, labels=mylabels, with_labels=True)\n",
    "    plt.show()\n",
    "\n",
    "show_graph_with_labels(A, zkc.nodes())"
   ]
  },
  {
   "cell_type": "code",
   "execution_count": 14,
   "metadata": {},
   "outputs": [
    {
     "data": {
      "image/png": "[encoded data removed]",
      "text/plain": [
       "<Figure size 432x288 with 1 Axes>"
      ]
     },
     "metadata": {
      "needs_background": "light"
     },
     "output_type": "display_data"
    }
   ],
   "source": [
    "import numpy as np\n",
    "from matplotlib import pyplot as plt\n",
    "\n",
    "group = np.array([zkc.nodes()[i]['club'] for i in zkc.nodes()])\n",
    "cdict = {'Mr. Hi': 'red', 'Officer': 'blue'}\n",
    "\n",
    "def extract_array(output, ix, element = 0):\n",
    "    out = np.array([output[i][0,element] for i in ix[0]])\n",
    "    return out\n",
    "\n",
    "\n",
    "\n",
    "fig, ax = plt.subplots()\n",
    "for g in np.unique(group):\n",
    "    ix = np.where(group == g)\n",
    "    ax.scatter(extract_array(output, ix, element = 0), extract_array(output, ix, element = 1), c = cdict[g], label = g, s = 100)\n",
    "ax.legend()\n",
    "plt.show()"
   ]
  },
  {
   "cell_type": "markdown",
   "metadata": {},
   "source": [
    "# Semi Supervised Learning"
   ]
  },
  {
   "cell_type": "code",
   "execution_count": 22,
   "metadata": {},
   "outputs": [],
   "source": [
    "from collections import namedtuple\n",
    "from networkx import read_edgelist, set_node_attributes\n",
    "from pandas import read_csv, Series\n",
    "from numpy import array\n",
    "\n",
    "DataSet = namedtuple(\n",
    "    'DataSet',\n",
    "    field_names=['X_train', 'y_train', 'X_test', 'y_test', 'network']\n",
    ")\n",
    "\n",
    "def load_karate_club():\n",
    "    network = read_edgelist(\n",
    "        'karate.edgelist',\n",
    "        nodetype=int)\n",
    "\n",
    "    attributes = read_csv(\n",
    "        'karate.attributes.csv',\n",
    "        index_col=['node'])\n",
    "\n",
    "    for attribute in attributes.columns.values:\n",
    "        set_node_attributes(\n",
    "            network,\n",
    "            values=Series(\n",
    "                attributes[attribute],\n",
    "                index=attributes.index).to_dict(),\n",
    "            name=attribute\n",
    "        )\n",
    "\n",
    "    X_train, y_train = map(array, zip(*[\n",
    "        ([node], data['role'] == 'Administrator')\n",
    "        for node, data in network.nodes(data=True)\n",
    "        if data['role'] in {'Administrator', 'Instructor'}\n",
    "    ]))\n",
    "    X_test, y_test = map(array, zip(*[\n",
    "        ([node], data['community'] == 'Administrator')\n",
    "        for node, data in network.nodes(data=True)\n",
    "        if data['role'] == 'Member'\n",
    "    ]))\n",
    "    \n",
    "    return DataSet(\n",
    "        X_train, y_train,\n",
    "        X_test, y_test,\n",
    "        network)\n"
   ]
  },
  {
   "cell_type": "code",
   "execution_count": 23,
   "metadata": {},
   "outputs": [],
   "source": [
    "from networkx import to_numpy_matrix, degree_centrality, betweenness_centrality, shortest_path_length\n",
    "import mxnet.ndarray as nd\n",
    "\n",
    "zkc = load_karate_club()\n",
    "\n",
    "A = to_numpy_matrix(zkc.network)\n",
    "A = nd.array(A)\n",
    "\n",
    "X_train = zkc.X_train.flatten()\n",
    "y_train = zkc.y_train\n",
    "X_test = zkc.X_test.flatten()\n",
    "y_test = zkc.y_test\n"
   ]
  },
  {
   "cell_type": "code",
   "execution_count": null,
   "metadata": {},
   "outputs": [],
   "source": []
  },
  {
   "cell_type": "code",
   "execution_count": null,
   "metadata": {},
   "outputs": [],
   "source": []
  },
  {
   "cell_type": "code",
   "execution_count": 18,
   "metadata": {},
   "outputs": [
    {
     "data": {
      "text/plain": [
       "\n",
       "[[1. 1. 1. 1.]\n",
       " [1. 1. 1. 1.]\n",
       " [1. 1. 1. 1.]]\n",
       "<NDArray 3x4 @gpu(0)>"
      ]
     },
     "execution_count": 18,
     "metadata": {},
     "output_type": "execute_result"
    }
   ],
   "source": [
    "#!/usr/bin/env python\n",
    "# coding: utf-8\n",
    "\n",
    "# # How to Do Deep Learning on Graphs with Graph Convolutional Networks\n",
    "# ## Part 2: Semi-Supervised Learning with Spectral Graph Convolutions\n",
    "# This notebook accompanies my Medium article with the above title for readers to try out and explore graph convolutional networks for themselves. You can find the article [here](https://towardsdatascience.com/how-to-do-deep-learning-on-graphs-with-graph-convolutional-networks-62acf5b143d0). To run the notebook, install the packages specified in the accompanying requirements.txt file.\n",
    "\n",
    "# #  Load Karate Club\n",
    "\n",
    "# In[1]:\n",
    "\n",
    "\n",
    "from collections import namedtuple\n",
    "from networkx import read_edgelist, set_node_attributes\n",
    "from pandas import read_csv, Series\n",
    "from numpy import array\n",
    "\n",
    "DataSet = namedtuple(\n",
    "    'DataSet',\n",
    "    field_names=['X_train', 'y_train', 'X_test', 'y_test', 'network']\n",
    ")\n",
    "\n",
    "def load_karate_club():\n",
    "    network = read_edgelist(\n",
    "        'karate.edgelist',\n",
    "        nodetype=int)\n",
    "\n",
    "    attributes = read_csv(\n",
    "        'karate.attributes.csv',\n",
    "        index_col=['node'])\n",
    "\n",
    "    for attribute in attributes.columns.values:\n",
    "        set_node_attributes(\n",
    "            network,\n",
    "            values=Series(\n",
    "                attributes[attribute],\n",
    "                index=attributes.index).to_dict(),\n",
    "            name=attribute\n",
    "        )\n",
    "\n",
    "    X_train, y_train = map(array, zip(*[\n",
    "        ([node], data['role'] == 'Administrator')\n",
    "        for node, data in network.nodes(data=True)\n",
    "        if data['role'] in {'Administrator', 'Instructor'}\n",
    "    ]))\n",
    "    X_test, y_test = map(array, zip(*[\n",
    "        ([node], data['community'] == 'Administrator')\n",
    "        for node, data in network.nodes(data=True)\n",
    "        if data['role'] == 'Member'\n",
    "    ]))\n",
    "    \n",
    "    return DataSet(\n",
    "        X_train, y_train,\n",
    "        X_test, y_test,\n",
    "        network)\n",
    "\n",
    "\n",
    "# In[ ]:\n",
    "\n",
    "\n",
    "from networkx import to_numpy_matrix, degree_centrality, betweenness_centrality, shortest_path_length\n",
    "import mxnet.ndarray as nd\n",
    "\n",
    "zkc = load_karate_club()\n",
    "\n",
    "A = to_numpy_matrix(zkc.network)\n",
    "A = nd.array(A)\n",
    "\n",
    "X_train = zkc.X_train\n",
    "y_train = zkc.y_train\n",
    "X_test = zkc.X_test\n",
    "y_test = zkc.y_test\n",
    "\n",
    "\n",
    "# # Layer Implementations\n",
    "\n",
    "# In[ ]:\n",
    "\n",
    "\n",
    "from mxnet.gluon import HybridBlock\n",
    "from mxnet.gluon.nn import Activation\n",
    "import mxnet.ndarray as nd\n",
    "\n",
    "class SpectralRule(HybridBlock):\n",
    "    def __init__(self, A, in_units, out_units, activation='relu', **kwargs):\n",
    "        super().__init__(**kwargs)\n",
    "        I = nd.eye(*A.shape)\n",
    "        A_hat = A.copy() + I\n",
    "\n",
    "        D = nd.sum(A_hat, axis=0)\n",
    "        D_inv = D**-0.5\n",
    "        D_inv = nd.diag(D_inv)\n",
    "\n",
    "        A_hat = D_inv * A_hat * D_inv\n",
    "        \n",
    "        self.in_units, self.out_units = in_units, out_units\n",
    "        \n",
    "        with self.name_scope():\n",
    "            self.A_hat = self.params.get_constant('A_hat', A_hat)\n",
    "            self.W = self.params.get(\n",
    "                'W', shape=(self.in_units, self.out_units)\n",
    "            )\n",
    "            if activation == 'identity':\n",
    "                self.activation = lambda X: X\n",
    "            else:\n",
    "                self.activation = Activation(activation)\n",
    "\n",
    "    def hybrid_forward(self, F, X, A_hat, W):\n",
    "        aggregate = F.dot(A_hat, X)\n",
    "        propagate = self.activation(\n",
    "            F.dot(aggregate, W))\n",
    "        return propagate\n",
    "\n",
    "\n",
    "# In[ ]:\n",
    "\n",
    "\n",
    "class LogisticRegressor(HybridBlock):\n",
    "    def __init__(self, in_units, **kwargs):\n",
    "        super().__init__(**kwargs)\n",
    "        with self.name_scope():\n",
    "            self.w = self.params.get(\n",
    "                'w', shape=(1, in_units)\n",
    "            )\n",
    "\n",
    "            self.b = self.params.get(\n",
    "                'b', shape=(1, 1)\n",
    "            )\n",
    "\n",
    "    def hybrid_forward(self, F, X, w, b):\n",
    "        # Change shape of b to comply with MXnet addition API\n",
    "        b = F.broadcast_axis(b, axis=(0,1), size=(34, 1))\n",
    "        y = F.dot(X, w, transpose_b=True) + b\n",
    "\n",
    "        return F.sigmoid(y)\n",
    "\n",
    "\n",
    "# # Models\n",
    "\n",
    "# In[ ]:\n",
    "\n",
    "\n",
    "from mxnet.gluon.nn import HybridSequential, Activation\n",
    "from mxnet.ndarray import array\n",
    "from mxnet.initializer import One, Uniform, Xavier\n",
    "from mxnet.gluon.loss import SigmoidBinaryCrossEntropyLoss\n",
    "\n",
    "def build_features(A, X):\n",
    "    hidden_layer_specs = [(4, 'tanh'), (2, 'tanh')] # Format: (units in layer, activation function)\n",
    "    in_units = in_units=X.shape[1]\n",
    "  \n",
    "    features = HybridSequential()\n",
    "    with features.name_scope():\n",
    "        for i, (layer_size, activation_func) in enumerate(hidden_layer_specs):\n",
    "            layer = SpectralRule(\n",
    "                A, in_units=in_units, out_units=layer_size, \n",
    "                activation=activation_func)\n",
    "            features.add(layer)\n",
    "\n",
    "            in_units = layer_size\n",
    "    return features, in_units\n",
    "\n",
    "\n",
    "\n",
    "def build_model(A, X):\n",
    "    model = HybridSequential()\n",
    "    hidden_layer_specs = [(4, 'tanh'), (2, 'tanh')]\n",
    "    in_units = X.shape[1]\n",
    "\n",
    "    with model.name_scope():\n",
    "        features, out_units = build_features(A, X)\n",
    "        model.add(features)\n",
    "\n",
    "        classifier = LogisticRegressor(out_units)\n",
    "        model.add(classifier)\n",
    "\n",
    "    model.hybridize()\n",
    "    model.initialize(Uniform(1))\n",
    "\n",
    "    return model, features\n",
    "\n",
    "\n",
    "# ## Model 1: Identity Matrix as Features\n",
    "\n",
    "# In[ ]:\n",
    "\n",
    "\n",
    "X_1 = I = nd.eye(*A.shape)\n",
    "model_1, features_1 = build_model(A, X_1)\n",
    "model_1(X_1)\n",
    "\n",
    "\n",
    "# ## Model 2: Distance to Administrator and Instructor as Additional Features\n",
    "\n",
    "# In[ ]:\n",
    "\n",
    "\n",
    "X_2 = nd.zeros((A.shape[0], 2))\n",
    "node_distance_instructor = shortest_path_length(zkc.network, target=33)\n",
    "node_distance_administrator = shortest_path_length(zkc.network, target=0)\n",
    "\n",
    "for node in zkc.network.nodes():\n",
    "    X_2[node][0] = node_distance_administrator[node]\n",
    "    X_2[node][1] = node_distance_instructor[node]\n",
    "\n",
    "\n",
    "# In[ ]:\n",
    "\n",
    "\n",
    "X_2 = nd.concat(X_1, X_2)\n",
    "model_2, features_2 = build_model(A, X_2)\n",
    "model_2(X_2)\n",
    "\n",
    "\n",
    "# # Train and Test Models\n",
    "\n",
    "# In[ ]:\n",
    "\n",
    "\n",
    "get_ipython().run_line_magic('time', '')\n",
    "from mxnet import autograd\n",
    "from mxnet.gluon import Trainer\n",
    "from mxnet.ndarray import sum as ndsum\n",
    "import numpy as np\n",
    "\n",
    "def train(model, features, X, X_train, y_train, epochs):\n",
    "    cross_entropy = SigmoidBinaryCrossEntropyLoss(from_sigmoid=True)\n",
    "    trainer = Trainer(model.collect_params(), 'sgd', {'learning_rate': 0.001, 'momentum': 1})\n",
    "\n",
    "    feature_representations = [features(X).asnumpy()]\n",
    "    \n",
    "#     model = model.copyto(gpu(0))\n",
    "#     X = X.copyto(gpu(0))\n",
    "#     X_train = X_train.copyto(gpu(0))\n",
    "#     y_train = y_train.copyto(gpu(0))\n",
    "    \n",
    "    for e in range(1, epochs + 1):\n",
    "        cum_loss = 0\n",
    "        cum_preds = []\n",
    "\n",
    "        for i, x in enumerate(X_train.flatten()):\n",
    "            y = array(y_train)[i]\n",
    "            with autograd.record():\n",
    "                preds = model(X)[x]\n",
    "                loss = cross_entropy(preds, y)\n",
    "            loss.backward()\n",
    "            trainer.step(1)\n",
    "\n",
    "            cum_loss += loss.asscalar()\n",
    "            cum_preds += [preds.asscalar()]\n",
    "\n",
    "        feature_representations.append(features(X).asnumpy())\n",
    "            \n",
    "        if (e % (epochs//10)) == 0:\n",
    "            print(f\"Epoch {e}/{epochs} -- Loss: {cum_loss: .4f}\")\n",
    "            print(cum_preds)\n",
    "    return feature_representations\n",
    "\n",
    "def predict(model, X, nodes):\n",
    "    preds = model(X)[nodes].asnumpy().flatten()\n",
    "    return np.where(preds >= 0.5, 1, 0)\n",
    "\n",
    "\n",
    "# ## Performance of Model 1\n",
    "\n",
    "# In[ ]:\n",
    "\n",
    "\n",
    "from sklearn.metrics import classification_report\n",
    "\n",
    "feature_representations_1 = train(model_1, features_1, X_1, X_train, y_train, epochs=5000)\n",
    "y_pred_1 = predict(model_1, X_1, X_test)\n",
    "print(classification_report(y_test, y_pred_1))\n",
    "\n",
    "\n",
    "# ## Performance of Model 2\n",
    "\n",
    "# In[ ]:\n",
    "\n",
    "\n",
    "feature_representations_2= train(model_2, features_2, X_2, X_train, y_train, epochs=250)\n",
    "y_pred_2 = predict(model_2, X_2, X_test)\n",
    "print(classification_report(y_test, y_pred_2))\n",
    "\n"
   ]
  }
 ],
 "metadata": {
  "kernelspec": {
   "display_name": "computer_vision_class",
   "language": "python",
   "name": "comp_vis"
  },
  "language_info": {
   "codemirror_mode": {
    "name": "ipython",
    "version": 3
   },
   "file_extension": ".py",
   "mimetype": "text/x-python",
   "name": "python",
   "nbconvert_exporter": "python",
   "pygments_lexer": "ipython3",
   "version": "3.6.9"
  }
 },
 "nbformat": 4,
 "nbformat_minor": 4
}
