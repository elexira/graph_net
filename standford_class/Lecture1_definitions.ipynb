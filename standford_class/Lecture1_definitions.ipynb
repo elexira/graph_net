{
 "cells": [
  {
   "cell_type": "markdown",
   "metadata": {},
   "source": [
    "# Lecture Notes"
   ]
  },
  {
   "cell_type": "markdown",
   "metadata": {},
   "source": [
    "## Common Application for Network Analyses\n",
    "* Link prediction: \n",
    "* Cluster detection: Node embedding\n",
    "* Node/network similarity: Node embedding: Product Recommendation\n",
    "* Robust network desgin (to failure)\n",
    "* Anamoly Detection: when a node is connected to incoherent nodes ?\n"
   ]
  },
  {
   "cell_type": "markdown",
   "metadata": {},
   "source": [
    "![](./images/lecture1/lecture1.png)"
   ]
  },
  {
   "cell_type": "markdown",
   "metadata": {},
   "source": [
    "bipatite graph : \n",
    "imagine two sets of nodes U and V\n",
    "nodes in U are connected to nodes in V , but nodes within V and nodes within U are not connected. Like authors and books. \n",
    "\n",
    "![](./images/lecture1/lecture2.png)\n",
    "![](./images/lecture1/lecture3.png)"
   ]
  },
  {
   "cell_type": "markdown",
   "metadata": {},
   "source": [
    "# Degree of Nodes/Out and in Degree of Nodes\n",
    "![](./images/lecture1/lecture4.png)"
   ]
  },
  {
   "cell_type": "markdown",
   "metadata": {},
   "source": [
    "## Methods Graphs are represented\n",
    "* 1) Ajacency matrix (above)\n",
    "* 2) set of edges \n",
    "* 3) Ajacency list: for each node, list of other nodes it is connected to (common)\n",
    "![](./images/lecture1/lecture5.png)\n",
    "![](./images/lecture1/lecture6.png)"
   ]
  },
  {
   "cell_type": "markdown",
   "metadata": {},
   "source": [
    "### features of edges\n",
    "![](./images/lecture1/lecture8.png)"
   ]
  },
  {
   "cell_type": "markdown",
   "metadata": {},
   "source": [
    "## weighted Graphs Representation\n",
    "![](./images/lecture1/lecture9.png)"
   ]
  },
  {
   "cell_type": "markdown",
   "metadata": {},
   "source": [
    "## Multi Edge Graphs Representation\n",
    "![](./images/lecture1/lecture10.png)"
   ]
  },
  {
   "cell_type": "markdown",
   "metadata": {},
   "source": [
    "## Graph Connection Manifestation in Adjencency matrix\n",
    "![](./images/lecture1/lecture11.png)"
   ]
  },
  {
   "cell_type": "code",
   "execution_count": null,
   "metadata": {},
   "outputs": [],
   "source": []
  }
 ],
 "metadata": {
  "kernelspec": {
   "display_name": "computer_vision_class",
   "language": "python",
   "name": "comp_vis"
  },
  "language_info": {
   "codemirror_mode": {
    "name": "ipython",
    "version": 3
   },
   "file_extension": ".py",
   "mimetype": "text/x-python",
   "name": "python",
   "nbconvert_exporter": "python",
   "pygments_lexer": "ipython3",
   "version": "3.6.9"
  }
 },
 "nbformat": 4,
 "nbformat_minor": 4
}
